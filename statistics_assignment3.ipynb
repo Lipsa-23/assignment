{
 "cells": [
  {
   "cell_type": "markdown",
   "id": "5d4f9fd9-6809-4591-9abe-5c3cdd05a368",
   "metadata": {},
   "source": [
    "Q1. What is the Probability density function?"
   ]
  },
  {
   "cell_type": "markdown",
   "id": "275dfe5f-70b8-473b-9e91-0d7e73d9c018",
   "metadata": {},
   "source": [
    "Ans: probability density function performs on continous random variablee and lies between 0 to 1 and "
   ]
  },
  {
   "cell_type": "markdown",
   "id": "b6f757a3-20ae-42a2-b970-294010ea95e2",
   "metadata": {},
   "source": [
    "Q2. What are the types of Probability distribution?"
   ]
  },
  {
   "cell_type": "markdown",
   "id": "33506dc5-2073-4734-82ee-6ad6f41cb6d9",
   "metadata": {},
   "source": [
    "Ans : i)normal distribution ii)bernouli distribution iii)uniform distribution iv)poision distribution v)longnormal distribution vi)binomial distribution"
   ]
  },
  {
   "cell_type": "markdown",
   "id": "ce9d1e91-3266-463a-b731-f8e705b08ae2",
   "metadata": {},
   "source": [
    "Q3. Write a Python function to calculate the probability density function of a normal distribution with \n",
    "given mean and standard deviation at a given point."
   ]
  },
  {
   "cell_type": "markdown",
   "id": "1bb90970-4b75-498e-95ae-1a5448323cea",
   "metadata": {},
   "source": [
    "Ans :std(),mean()"
   ]
  },
  {
   "cell_type": "markdown",
   "id": "f0586fa7-783c-47ae-8690-3bf7abb22c58",
   "metadata": {},
   "source": [
    "Q4. What are the properties of Binomial distribution? Give two examples of events where binomial \n",
    "distribution can be applied."
   ]
  },
  {
   "cell_type": "markdown",
   "id": "7c47323b-4e71-45fa-9d09-4cac494169ed",
   "metadata": {},
   "source": [
    "Ans: i. Every experiment outcome is binary\n",
    "ii. This experiment performs for n times\n",
    "e.g :- tossing coin 10 times\n",
    "       rolling a dice 3 times"
   ]
  },
  {
   "cell_type": "code",
   "execution_count": 1,
   "id": "dd399d09-7673-41ca-afe7-f8484d716f5d",
   "metadata": {},
   "outputs": [
    {
     "data": {
      "image/png": "[encoded data removed]",
      "text/plain": [
       "<Figure size 640x480 with 1 Axes>"
      ]
     },
     "metadata": {},
     "output_type": "display_data"
    }
   ],
   "source": [
    "import numpy as np\n",
    "import matplotlib.pyplot as plt\n",
    "\n",
    "n, p = 1000, 0.4  \n",
    "s = np.random.binomial(n, p, 1000)\n",
    "\n",
    "plt.hist(s)\n",
    "plt.show()\n"
   ]
  },
  {
   "cell_type": "markdown",
   "id": "76d3cfeb-fb23-4288-856c-0e48877521d1",
   "metadata": {},
   "source": [
    "Q6. Write a Python function to calculate the cumulative distribution function of a Poisson distribution \n",
    "with given mean at a given point."
   ]
  },
  {
   "cell_type": "code",
   "execution_count": 2,
   "id": "8b3a1f84-802d-4ab5-b447-167aceb6729c",
   "metadata": {},
   "outputs": [],
   "source": [
    "from scipy.stats import poisson\n",
    "\n",
    "def poisson_cdf(mean, point):\n",
    "    return poisson.cdf(point, mean)"
   ]
  },
  {
   "cell_type": "markdown",
   "id": "5c4f2dd1-9279-4273-82c7-99918da7d00c",
   "metadata": {},
   "source": [
    "Q7. How Binomial distribution different from Poisson distribution?"
   ]
  },
  {
   "cell_type": "markdown",
   "id": "0cce2bb6-cf51-4123-8a37-6a562094dd78",
   "metadata": {},
   "source": [
    "in binomial distribution the outcomes are boolean valued outcome"
   ]
  },
  {
   "cell_type": "markdown",
   "id": "6042bca0-87cd-49f8-a1cf-c57f4409601c",
   "metadata": {},
   "source": [
    "Q8. Generate a random sample of size 1000 from a Poisson distribution with mean 5 and calculate the \n",
    "sample mean and variance."
   ]
  },
  {
   "cell_type": "code",
   "execution_count": 4,
   "id": "cc8a12f7-5889-4b28-bda4-4141cc95d5d2",
   "metadata": {},
   "outputs": [],
   "source": [
    "import numpy as np\n",
    "s = np.random.poisson(5,1000)"
   ]
  },
  {
   "cell_type": "markdown",
   "id": "6a927ae8-182a-4d48-960f-674e5a08e6fa",
   "metadata": {},
   "source": [
    "Q9. How mean and variance are related in Binomial distribution and Poisson distribution?"
   ]
  },
  {
   "cell_type": "markdown",
   "id": "11c5d79a-960e-4b0b-aa41-595566f3122f",
   "metadata": {},
   "source": [
    "In a binomial distribution, the mean is equal to np and the variance is equal to npq where n is the number of trials and p is the probability of success in each trial. In Poisson distribution, both mean and variance are equal to λt where λ is the expected number of occurrences in a given time interval and t is the time interval"
   ]
  },
  {
   "cell_type": "markdown",
   "id": "bc646941-c2df-4fc9-ab36-8042b5d3935f",
   "metadata": {},
   "source": [
    " Q10. In normal distribution with respect to mean position, where does the least frequent data appear?"
   ]
  },
  {
   "cell_type": "markdown",
   "id": "1ccce0e8-ce24-4c19-9ff0-f9240cc2c0a3",
   "metadata": {},
   "source": [
    " In normal distribution the least frequent data appear far from the mean"
   ]
  },
  {
   "cell_type": "code",
   "execution_count": null,
   "id": "ec5438f5-b171-4416-909e-bddf4867d73a",
   "metadata": {},
   "outputs": [],
   "source": []
  }
 ],
 "metadata": {
  "kernelspec": {
   "display_name": "Python 3 (ipykernel)",
   "language": "python",
   "name": "python3"
  },
  "language_info": {
   "codemirror_mode": {
    "name": "ipython",
    "version": 3
   },
   "file_extension": ".py",
   "mimetype": "text/x-python",
   "name": "python",
   "nbconvert_exporter": "python",
   "pygments_lexer": "ipython3",
   "version": "3.10.8"
  }
 },
 "nbformat": 4,
 "nbformat_minor": 5
}
