{
 "cells": [
  {
   "cell_type": "markdown",
   "id": "7e981bc8",
   "metadata": {},
   "source": [
    "Q1. Explain Class and Object with respect to Object-Oriented Programming. Give a suitable example."
   ]
  },
  {
   "cell_type": "markdown",
   "id": "8453da05",
   "metadata": {},
   "source": [
    "Ans: class is a classification or characteristics of real world entity.it is also known as blue print or templet.object object is an instance of class each object has its state,identity and behaviour"
   ]
  },
  {
   "cell_type": "code",
   "execution_count": 8,
   "id": "6a3358cc",
   "metadata": {},
   "outputs": [],
   "source": [
    "class me :\n",
    "    def name(self):\n",
    "        print(\"my name is lipsa\")"
   ]
  },
  {
   "cell_type": "code",
   "execution_count": 9,
   "id": "9e56ea90",
   "metadata": {},
   "outputs": [],
   "source": [
    "lipsa = me()"
   ]
  },
  {
   "cell_type": "code",
   "execution_count": 10,
   "id": "ca2c85c9",
   "metadata": {},
   "outputs": [
    {
     "name": "stdout",
     "output_type": "stream",
     "text": [
      "my name is lipsa\n"
     ]
    }
   ],
   "source": [
    "lipsa.name()"
   ]
  },
  {
   "cell_type": "markdown",
   "id": "99167122",
   "metadata": {},
   "source": [
    "Q2. Name the four pillars of OOPs."
   ]
  },
  {
   "cell_type": "markdown",
   "id": "ee39a59a",
   "metadata": {},
   "source": [
    "Ans: i.abstraction\n",
    "     ii.encapsulation\n",
    "    iii.polymorphism\n",
    "    iv.inheritance"
   ]
  },
  {
   "cell_type": "markdown",
   "id": "231d6b25",
   "metadata": {},
   "source": [
    "Q3. Explain why the __init__() function is used. Give a suitable example"
   ]
  },
  {
   "cell_type": "markdown",
   "id": "863962b6",
   "metadata": {},
   "source": [
    "Ans: __init()__ function is like an constructor when ever we create an object it automatically invoked.we can pass arguments in it and instate of writing of another method and call it with the instance we can simply use the __init()__ method "
   ]
  },
  {
   "cell_type": "code",
   "execution_count": 15,
   "id": "9d457136",
   "metadata": {},
   "outputs": [],
   "source": [
    "class student:\n",
    "    def __init__(self,phnumber,name):\n",
    "        self.phnumber = phnumber\n",
    "        self.name = name\n",
    "    def return_details(self):\n",
    "        return self.phnumber , self.name"
   ]
  },
  {
   "cell_type": "code",
   "execution_count": 16,
   "id": "1e704d31",
   "metadata": {},
   "outputs": [],
   "source": [
    "lipsa1 = student(9337226593,\"lipsa\")"
   ]
  },
  {
   "cell_type": "code",
   "execution_count": 17,
   "id": "991ab944",
   "metadata": {},
   "outputs": [
    {
     "data": {
      "text/plain": [
       "(9337226593, 'lipsa')"
      ]
     },
     "execution_count": 17,
     "metadata": {},
     "output_type": "execute_result"
    }
   ],
   "source": [
    "lipsa1.return_details()"
   ]
  },
  {
   "cell_type": "markdown",
   "id": "075d8e9c",
   "metadata": {},
   "source": [
    "Q4. Why self is used in OOPs?"
   ]
  },
  {
   "cell_type": "markdown",
   "id": "f61af82b",
   "metadata": {},
   "source": [
    "Ans: self is used in oops with the method of class to point the method with the class that is the method is inside the method or the class method . self is not a reserve keyword so we can use anything as an first argument  of method instate of writing self"
   ]
  },
  {
   "cell_type": "markdown",
   "id": "e7fcdaca",
   "metadata": {},
   "source": [
    "Q5.What is inheritance? Give an example for each type of inheritance"
   ]
  },
  {
   "cell_type": "markdown",
   "id": "515501e3",
   "metadata": {},
   "source": [
    "Ans: inheritance is the process in which the child class access all the propoties and behaviour of a parent class.it gives the advantages of code optimization\n",
    "inheritance are off 5 types :\n",
    "a) single inheritance\n",
    "b) multiple inheritance\n",
    "c) multilevel inheritance\n",
    "d) hybrid inheritance\n",
    "e) hairarchical inheritance"
   ]
  },
  {
   "cell_type": "code",
   "execution_count": null,
   "id": "0cc8e0b0",
   "metadata": {},
   "outputs": [],
   "source": []
  }
 ],
 "metadata": {
  "kernelspec": {
   "display_name": "Python 3 (ipykernel)",
   "language": "python",
   "name": "python3"
  },
  "language_info": {
   "codemirror_mode": {
    "name": "ipython",
    "version": 3
   },
   "file_extension": ".py",
   "mimetype": "text/x-python",
   "name": "python",
   "nbconvert_exporter": "python",
   "pygments_lexer": "ipython3",
   "version": "3.11.1"
  }
 },
 "nbformat": 4,
 "nbformat_minor": 5
}
