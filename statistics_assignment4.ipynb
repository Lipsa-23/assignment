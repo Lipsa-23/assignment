{
 "cells": [
  {
   "cell_type": "markdown",
   "id": "d65a984c-1dae-48e0-bc32-eb2d1a2fbe53",
   "metadata": {},
   "source": [
    "Q1: What are the Probability Mass Function (PMF) and Probability Density Function (PDF)? Explain with \n",
    "an example."
   ]
  },
  {
   "cell_type": "markdown",
   "id": "78b01264-5f70-4806-83da-96cf024372db",
   "metadata": {},
   "source": [
    "Ans : probability mass funtion and probability density function both are used to find ouut area under the curve. pmf is use for discrete variable .Ex- tossing a coin and pdf is use for continous variable ex- height of students in a class"
   ]
  },
  {
   "cell_type": "markdown",
   "id": "21be1b21-d42c-4e97-8919-148fcf1a9bf4",
   "metadata": {},
   "source": [
    "Q2: What is Cumulative Density Function (CDF)? Explain with an example. Why CDF is used?"
   ]
  },
  {
   "cell_type": "markdown",
   "id": "847d563c-bc0e-4a84-a28a-6c747c8a182e",
   "metadata": {},
   "source": [
    "Ans : CDF is used to find the cumulative probability for a given value. It is used to calculate the probability of a random variable and also to compare the probability of variables under a given condition. For continuous distribution functions, CDF gives the area under the probability density function. ex: rolling a dice pr(1) = 1/6 pr(2) = pr(1)+1/6 = 2/6"
   ]
  },
  {
   "cell_type": "markdown",
   "id": "1c8354e5-69b2-4856-a369-8d9d36966516",
   "metadata": {},
   "source": [
    "Q3: What are some examples of situations where the normal distribution might be used as a model? \n",
    "Explain how the parameters of the normal distribution relate to the shape of the distribution."
   ]
  },
  {
   "cell_type": "markdown",
   "id": "3f258995-ecdc-4ee8-8f35-57d071519d46",
   "metadata": {},
   "source": [
    "Ans : e.g :- i)  weight of students in a class ii) iris dataset \n",
    "in normal distribution mean = mode = median in normal distribution the curve is symmetric"
   ]
  },
  {
   "cell_type": "markdown",
   "id": "0c88ca53-a1af-4120-b57c-0ccbe71b10e2",
   "metadata": {},
   "source": [
    "Q4: Explain the importance of Normal Distribution. Give a few real-life examples of Normal \n",
    "Distribution. "
   ]
  },
  {
   "cell_type": "markdown",
   "id": "1e777dff-597e-475e-bac6-0e08eb38ce53",
   "metadata": {},
   "source": [
    "Ans : a normal distribution is a type of continuous probability distribution for a real valued random variable . e.g:- Blood pressure , Birth weight"
   ]
  },
  {
   "cell_type": "markdown",
   "id": "19078b33-1af3-4233-a980-8e3cf2db141c",
   "metadata": {},
   "source": [
    "Q5: What is Bernaulli Distribution? Give an Example. What is the difference between Bernoulli \n",
    "Distribution and Binomial Distribution?"
   ]
  },
  {
   "cell_type": "markdown",
   "id": "d33680d7-63e1-4229-aad0-9ecd773fc8ee",
   "metadata": {},
   "source": [
    "Ans: The Bernoulli distribution is a discrete probability indicator. It is used for determining the possible outcome of a single random experiment. it has binary outcomes . e.g:- tossing a coin.\n",
    "binomial distribution is combination of more than one bernoulli distribution. e.g :- tossing a coin 5  times"
   ]
  },
  {
   "cell_type": "markdown",
   "id": "093ae797-1792-4f51-8d86-3f96aae8e58e",
   "metadata": {},
   "source": [
    "Q6. Consider a dataset with a mean of 50 and a standard deviation of 10. If we assume that the dataset \n",
    "is normally distributed, what is the probability that a randomly selected observation will be greater \n",
    "than 60? Use the appropriate formula and show your calculations."
   ]
  },
  {
   "cell_type": "markdown",
   "id": "6d79a1df-3b63-41e0-a5a1-422b4fb0a004",
   "metadata": {},
   "source": [
    "Ans : mean = 50 , std =  10 , z = (60 - 50)/10 = 1 Acc to z table the area under the curve between 60 is 0.8413 so probability of obseravation greater than 60 is = 1-0.8413 = 0.1587"
   ]
  },
  {
   "cell_type": "markdown",
   "id": "d8e8ba83-2e33-40da-a20a-9a2d4dab8485",
   "metadata": {},
   "source": [
    "Q7: Explain uniform Distribution with an example."
   ]
  },
  {
   "cell_type": "markdown",
   "id": "d024af76-abf9-4e20-af96-d43ec584ba17",
   "metadata": {},
   "source": [
    "Ans : Uniform distribution is a probability in which all outcomes have an equal chance of happening. For example, when you flip a coin, there is a 50% chance the flip is heads and a 50% chance it's tails. No matter how many times you flip the coin, the data set and potential results remain the same.\n"
   ]
  },
  {
   "cell_type": "markdown",
   "id": "dd39c32b-9f87-4701-bee7-ff4b55a90ae0",
   "metadata": {},
   "source": [
    "Q8: What is the z score? State the importance of the z score."
   ]
  },
  {
   "cell_type": "markdown",
   "id": "d259bc95-1bca-4c24-ae93-633d4e17f286",
   "metadata": {},
   "source": [
    "Ans : The Z-score is a statistical measurement that compares a score’s relationship to the mean of a group of scores. It is calculated by subtracting the mean from the score and then dividing the difference by the standard deviation.The Z-score is important because it lets statisticians and traders know whether a score falls within the norm for a given data set or deviates from it. "
   ]
  },
  {
   "cell_type": "markdown",
   "id": "a487e807-f387-4479-967c-a1f88a0f8116",
   "metadata": {},
   "source": [
    "Q9: What is Central Limit Theorem? State the significance of the Central Limit Theorem."
   ]
  },
  {
   "cell_type": "markdown",
   "id": "ff855da4-e7ef-4c86-9b54-df1cd1220fe4",
   "metadata": {},
   "source": [
    "Ans :the central limit theorem says that the sampling distribution of the mean will always be normally distributed as long as two sample size is large enough. ragardless of wheather the poulation is normal,poision ,binomial or any other distribution .the sampling distribution of mean is always normal. if the population is narmally distributed then the sample sizw will be any thing but in case of other distribution the sample size will be >=30"
   ]
  },
  {
   "cell_type": "markdown",
   "id": "1a4dab8c-4e21-4874-8918-6264a1b3c1cd",
   "metadata": {},
   "source": [
    "Q10: State the assumptions of the Central Limit Theorem."
   ]
  },
  {
   "cell_type": "markdown",
   "id": "fef47bc2-3a62-4645-a023-2b1a968d274e",
   "metadata": {},
   "source": [
    "Ans :Assumptions of the Central Limit Theorem The sample should be drawn randomly following the condition of randomisation. The samples drawn should be independent of each other. They should not influence the other samples. When the sampling is done without replacement, the sample size shouldn’t exceed 10% of the total"
   ]
  },
  {
   "cell_type": "code",
   "execution_count": null,
   "id": "368f6763-8413-46ea-b678-dfaeea6a782a",
   "metadata": {},
   "outputs": [],
   "source": []
  }
 ],
 "metadata": {
  "kernelspec": {
   "display_name": "Python 3 (ipykernel)",
   "language": "python",
   "name": "python3"
  },
  "language_info": {
   "codemirror_mode": {
    "name": "ipython",
    "version": 3
   },
   "file_extension": ".py",
   "mimetype": "text/x-python",
   "name": "python",
   "nbconvert_exporter": "python",
   "pygments_lexer": "ipython3",
   "version": "3.10.8"
  }
 },
 "nbformat": 4,
 "nbformat_minor": 5
}
