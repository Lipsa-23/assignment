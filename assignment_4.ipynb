{
 "cells": [
  {
   "cell_type": "markdown",
   "id": "dbd34638",
   "metadata": {},
   "source": [
    "1) Which keyword is used to create a function? Create a function to return a list of odd numbers in the \n",
    "range of 1 to 25."
   ]
  },
  {
   "cell_type": "markdown",
   "id": "04ebb927",
   "metadata": {},
   "source": [
    " ans : def keyword is used to creat a function"
   ]
  },
  {
   "cell_type": "code",
   "execution_count": 1,
   "id": "a42defb3",
   "metadata": {},
   "outputs": [],
   "source": [
    "def odd():\n",
    "    l = list(range(26))\n",
    "    for i in l:\n",
    "        if i%2 != 0:\n",
    "            print(i)\n",
    "        i +=1"
   ]
  },
  {
   "cell_type": "code",
   "execution_count": 2,
   "id": "bd5d672d",
   "metadata": {},
   "outputs": [
    {
     "name": "stdout",
     "output_type": "stream",
     "text": [
      "1\n",
      "3\n",
      "5\n",
      "7\n",
      "9\n",
      "11\n",
      "13\n",
      "15\n",
      "17\n",
      "19\n",
      "21\n",
      "23\n",
      "25\n"
     ]
    }
   ],
   "source": [
    "odd()"
   ]
  },
  {
   "cell_type": "markdown",
   "id": "f0c59096",
   "metadata": {},
   "source": [
    "2) Why *args and **kwargs is used in some functions? Create a function each for *args and **kwargs \n",
    "to demonstrate their use"
   ]
  },
  {
   "cell_type": "markdown",
   "id": "69919f1f",
   "metadata": {},
   "source": [
    " ans : we use *args and **kwargs as an argument when we are unsure about the\n",
    "number of arguments to pass in the function"
   ]
  },
  {
   "cell_type": "markdown",
   "id": "d26b9b55",
   "metadata": {},
   "source": [
    "3)What is an iterator in python? Name the method used to initialise the iterator object and the method \n",
    "used for iteration. Use these methods to print the first five elements of the given list [2, 4, 6, 8, 10, 12, 14, \n",
    "16, 18, 20]."
   ]
  },
  {
   "cell_type": "markdown",
   "id": "524cd97b",
   "metadata": {},
   "source": [
    "ans : an iterator is an object in python.the iter() initialize the iterator object"
   ]
  },
  {
   "cell_type": "code",
   "execution_count": 6,
   "id": "ca8b3c63",
   "metadata": {},
   "outputs": [
    {
     "name": "stdout",
     "output_type": "stream",
     "text": [
      "2\n",
      "4\n",
      "6\n",
      "8\n",
      "10\n"
     ]
    }
   ],
   "source": [
    "l = [2,4,6,8,10,12,14,16,18,20]\n",
    "my_iterator = iter(l)\n",
    "for i in range(5):\n",
    "    print(next(my_iterator))"
   ]
  },
  {
   "cell_type": "markdown",
   "id": "803ee706",
   "metadata": {},
   "source": [
    "4) What is a generator function in python? Why yield keyword is used? Give an example of a generator \n",
    "function4"
   ]
  },
  {
   "cell_type": "markdown",
   "id": "e37d5d37",
   "metadata": {},
   "source": [
    "ans: a generator is a function that returns an iterator that \n",
    "produces a sequence of values when iterated over.yield keyword is same \n",
    "as return statement it returns generator object"
   ]
  },
  {
   "cell_type": "markdown",
   "id": "64fd0b3d",
   "metadata": {},
   "source": [
    "5)  Create a generator function for prime numbers less than 1000. Use the next() method to print the \n",
    "first 20 prime numbers"
   ]
  },
  {
   "cell_type": "code",
   "execution_count": 15,
   "id": "872a80f5",
   "metadata": {},
   "outputs": [],
   "source": [
    " def prime():\n",
    "        num = 2\n",
    "        while num<1000:\n",
    "            for i in range(2,num):\n",
    "                if num%i == 0:\n",
    "                    break\n",
    "                else:\n",
    "                    yield num\n",
    "        num  = num+1\n",
    "                    "
   ]
  },
  {
   "cell_type": "code",
   "execution_count": 16,
   "id": "4a0b1ac4",
   "metadata": {},
   "outputs": [],
   "source": [
    "prime_generator = prime() "
   ]
  },
  {
   "cell_type": "code",
   "execution_count": null,
   "id": "102706ce",
   "metadata": {},
   "outputs": [],
   "source": [
    "for i in range(20):\n",
    "    print(next(prime_generator))"
   ]
  },
  {
   "cell_type": "markdown",
   "id": "508ba1ac",
   "metadata": {},
   "source": [
    "6)Write a python program to print the first 10 Fibonacci numbers using a while loop"
   ]
  },
  {
   "cell_type": "code",
   "execution_count": 13,
   "id": "ffae902c",
   "metadata": {},
   "outputs": [],
   "source": [
    "\n",
    "def fab():\n",
    "    a,b = 0,1\n",
    "    i=0\n",
    "    while i<=10:\n",
    "        print(a)\n",
    "        a,b = b,a+b\n",
    "        i = i+1"
   ]
  },
  {
   "cell_type": "code",
   "execution_count": 14,
   "id": "3ce077d2",
   "metadata": {},
   "outputs": [
    {
     "name": "stdout",
     "output_type": "stream",
     "text": [
      "0\n",
      "1\n",
      "1\n",
      "2\n",
      "3\n",
      "5\n",
      "8\n",
      "13\n",
      "21\n",
      "34\n",
      "55\n"
     ]
    }
   ],
   "source": [
    "fab()"
   ]
  },
  {
   "cell_type": "markdown",
   "id": "53b834b5",
   "metadata": {},
   "source": [
    "7) Write a List Comprehension to iterate through the given string: ‘pwskills’.\n",
    "\n",
    "Expected output: ['p', 'w', 's', 'k', 'i', 'l', 'l', 's']"
   ]
  },
  {
   "cell_type": "code",
   "execution_count": 2,
   "id": "6ead33ea",
   "metadata": {},
   "outputs": [
    {
     "name": "stdout",
     "output_type": "stream",
     "text": [
      "['p', 'w', 's', 'k', 'i', 'l', 'l', 's']\n"
     ]
    }
   ],
   "source": [
    "s = 'pwskills'\n",
    "x = [i for i in s]\n",
    "print(x)"
   ]
  },
  {
   "cell_type": "markdown",
   "id": "f787c4a5",
   "metadata": {},
   "source": [
    "8) Write a python program to check whether a given number is Palindrome or not using a while loop"
   ]
  },
  {
   "cell_type": "code",
   "execution_count": 2,
   "id": "c331d301",
   "metadata": {},
   "outputs": [
    {
     "name": "stdout",
     "output_type": "stream",
     "text": [
      "Enter a number:101\n",
      "101 is palindrome\n"
     ]
    }
   ],
   "source": [
    "num = int(input(\"Enter a number:\"))\n",
    "temp = num\n",
    "rev_num = 0\n",
    "while temp != 0:\n",
    "      reminder = temp %10\n",
    "      rev_num = rev_num * 10 +reminder\n",
    "      temp = int(temp/10)\n",
    "if num == rev_num:\n",
    "    print(num , \"is palindrome\")\n",
    "else:\n",
    "    print(num,\" is not palindrome\")\n",
    "                \n",
    "\n",
    "                "
   ]
  },
  {
   "cell_type": "markdown",
   "id": "58bd44e3",
   "metadata": {},
   "source": [
    "8) Write a code to print odd numbers from 1 to 100 using list comprehension."
   ]
  },
  {
   "cell_type": "code",
   "execution_count": 3,
   "id": "6ff52de6",
   "metadata": {},
   "outputs": [
    {
     "data": {
      "text/plain": [
       "[1,\n",
       " 3,\n",
       " 5,\n",
       " 7,\n",
       " 9,\n",
       " 11,\n",
       " 13,\n",
       " 15,\n",
       " 17,\n",
       " 19,\n",
       " 21,\n",
       " 23,\n",
       " 25,\n",
       " 27,\n",
       " 29,\n",
       " 31,\n",
       " 33,\n",
       " 35,\n",
       " 37,\n",
       " 39,\n",
       " 41,\n",
       " 43,\n",
       " 45,\n",
       " 47,\n",
       " 49,\n",
       " 51,\n",
       " 53,\n",
       " 55,\n",
       " 57,\n",
       " 59,\n",
       " 61,\n",
       " 63,\n",
       " 65,\n",
       " 67,\n",
       " 69,\n",
       " 71,\n",
       " 73,\n",
       " 75,\n",
       " 77,\n",
       " 79,\n",
       " 81,\n",
       " 83,\n",
       " 85,\n",
       " 87,\n",
       " 89,\n",
       " 91,\n",
       " 93,\n",
       " 95,\n",
       " 97,\n",
       " 99]"
      ]
     },
     "execution_count": 3,
     "metadata": {},
     "output_type": "execute_result"
    }
   ],
   "source": [
    "[i for i in range(1,100) if i%2 != 0]"
   ]
  },
  {
   "cell_type": "code",
   "execution_count": null,
   "id": "5c0cc088",
   "metadata": {},
   "outputs": [],
   "source": []
  }
 ],
 "metadata": {
  "kernelspec": {
   "display_name": "Python 3 (ipykernel)",
   "language": "python",
   "name": "python3"
  },
  "language_info": {
   "codemirror_mode": {
    "name": "ipython",
    "version": 3
   },
   "file_extension": ".py",
   "mimetype": "text/x-python",
   "name": "python",
   "nbconvert_exporter": "python",
   "pygments_lexer": "ipython3",
   "version": "3.11.1"
  }
 },
 "nbformat": 4,
 "nbformat_minor": 5
}
