{
 "cells": [
  {
   "cell_type": "markdown",
   "id": "56454e6f-a84c-4eee-a1c1-fc9cf8294f1d",
   "metadata": {},
   "source": [
    "Q1: What is the difference between a t-test and a z-test? Provide an example scenario where you would \n",
    "use each type of test."
   ]
  },
  {
   "cell_type": "markdown",
   "id": "338e1f2d-b3cb-4def-a079-ce128af86218",
   "metadata": {},
   "source": [
    "Ans : t-test and z-test both are use  for hypothesis testing when the population standard deviation is given and the sample size is above 30 we use z-test and when sample standard deviation is given then we use t-test"
   ]
  },
  {
   "cell_type": "markdown",
   "id": "794443c9-233b-44cc-9a05-340c73f6cb10",
   "metadata": {},
   "source": [
    "Q2: Differentiate between one-tailed and two-tailed tests."
   ]
  },
  {
   "cell_type": "markdown",
   "id": "55253db0-27a4-4f52-9f4c-4e0f884cb4d2",
   "metadata": {},
   "source": [
    "Ans :One and Two-Tailed Tests are ways to identify the relationship between the statistical variables. For checking the relationship between variables in a single direction (Left or Right direction), we use a one-tailed test. A two-tailed test is used for checking whether the relations between variables are in any direction or not."
   ]
  },
  {
   "cell_type": "markdown",
   "id": "17f1d941-bd7a-4637-9906-455089bb24f1",
   "metadata": {},
   "source": [
    "Q3: Explain the concept of Type 1 and Type 2 errors in hypothesis testing. Provide an example scenario for \n",
    "each type of error."
   ]
  },
  {
   "cell_type": "markdown",
   "id": "f7237286-5e8f-4483-9e2c-1b5a98b27e12",
   "metadata": {},
   "source": [
    "Ans:Type 1 error - we reject the null hypothesis when in reality it is true. ex - For example, if a person is convicted of a crime when they are actually innocent.\n",
    "Type 2 error - we retain the null hypothesis when in reality it is false. ex -  For example, if a guilty person is not convicted."
   ]
  },
  {
   "cell_type": "markdown",
   "id": "e1b4561f-0995-4f54-84a9-04284b324017",
   "metadata": {},
   "source": [
    "Q4:  Explain Bayes's theorem with an example."
   ]
  },
  {
   "cell_type": "markdown",
   "id": "9b71d0dd-ca4e-4c9c-8047-6f4fc6c7758d",
   "metadata": {},
   "source": [
    "Ans:  the Bayes’ theorem describes the probability of an event based on prior knowledge of the conditions that might be relevant to the event. ex-risk of developing health problems is known to increase with age"
   ]
  },
  {
   "cell_type": "markdown",
   "id": "ab4ad47c-ffc1-4c08-9300-1b94c62c941c",
   "metadata": {},
   "source": [
    "Q5: What is a confidence interval? How to calculate the confidence interval, explain with an example"
   ]
  },
  {
   "cell_type": "markdown",
   "id": "f4b1813c-bcf5-46ea-a442-b6b0eb929630",
   "metadata": {},
   "source": [
    "Ans: confidence interval helps to estimate what the actual value of the unknown population mean is.\n",
    "confidence interval = 1-significance value"
   ]
  },
  {
   "cell_type": "markdown",
   "id": "031a7dd2-0dad-487f-88a7-e3b1b03b9721",
   "metadata": {},
   "source": [
    "Q6. Use Bayes' Theorem to calculate the probability of an event occurring given prior knowledge of the \n",
    "event's probability and new evidence. Provide a sample problem and solution."
   ]
  },
  {
   "cell_type": "markdown",
   "id": "4c5f220f-2f53-4bdc-9ec1-a2a2d4e6929e",
   "metadata": {},
   "source": [
    "Bayes’ Theorem is a mathematical formula used to calculate conditional probabilities. It is named after Reverend Thomas Bayes who first introduced the concept. The theorem is based on the idea that the probability of an event occurring can be calculated based on prior knowledge of the event’s probability and new evidence.   ex:-\n",
    "\n",
    "Suppose that a certain disease affects 1% of the population. A test for this disease has a false positive rate of 5% (meaning that 5% of people without the disease will test positive) and a false negative rate of 10% (meaning that 10% of people with the disease will test negative). If a person tests positive for the disease, what is the probability that they actually have it?"
   ]
  },
  {
   "cell_type": "markdown",
   "id": "73442e6d-80e9-4320-8136-6c61a7b8cafe",
   "metadata": {},
   "source": [
    "Q7. Calculate the 95% confidence interval for a sample of data with a mean of 50 and a standard deviation \n",
    "of 5. Interpret the results."
   ]
  },
  {
   "cell_type": "markdown",
   "id": "03890321-cf5b-4f71-88bb-8ff79dde9f73",
   "metadata": {},
   "source": [
    "Ans : Confidence Interval = (50 - 1.96 * 5 / √n) to (50 + 1.96 * 5 / √n)"
   ]
  },
  {
   "cell_type": "markdown",
   "id": "3b774ab8-be7b-489f-b934-b6cf57b82a5b",
   "metadata": {},
   "source": [
    "Q8. What is the margin of error in a confidence interval? How does sample size affect the margin of error? \n",
    "Provide an example of a scenario where a larger sample size would result in a smaller margin of error."
   ]
  },
  {
   "cell_type": "markdown",
   "id": "b4cd5e3c-8baa-401d-b4d4-ca28f65f2228",
   "metadata": {},
   "source": [
    "Ans:The margin of error is the range of values above and below the sample statistic in a confidence interval. It is calculated as the product of the critical value for the confidence level and the standard error of the statistic. The standard error is calculated as the standard deviation of the sampling distribution divided by the square root of the sample size. As sample size increases, the margin of error decreases because the standard error decreases. This means that a larger sample size would result in a smaller margin of error."
   ]
  },
  {
   "cell_type": "markdown",
   "id": "f8226f29-1887-42b9-a8f7-42a676bbd7fb",
   "metadata": {},
   "source": [
    "Q9. Calculate the z-score for a data point with a value of 75, a population mean of 70, and a population \n",
    "standard deviation of 5. Interpret the results."
   ]
  },
  {
   "cell_type": "markdown",
   "id": "c4be05e3-0326-44c2-9099-28d06c7c95a0",
   "metadata": {},
   "source": [
    "Ans: z-score = (x – μ) / σ\n",
    "\n",
    "where x is the data point, μ is the population mean, and σ is the population standard deviation. In this case, we have:\n",
    "\n",
    "x = 75 μ = 70 σ = 5\n",
    "\n",
    "So the z-score is:\n",
    "\n",
    "z-score = (75 – 70) / 5 = 1"
   ]
  },
  {
   "cell_type": "markdown",
   "id": "a14a5a77-7ca8-4a54-93de-592a3c5a210a",
   "metadata": {},
   "source": [
    "Q10. In a study of the effectiveness of a new weight loss drug, a sample of 50 participants lost an average \n",
    "of 6 pounds with a standard deviation of 2.5 pounds. Conduct a hypothesis test to determine if the drug is \n",
    "significantly effective at a 95% confidence level using a t-test."
   ]
  },
  {
   "cell_type": "markdown",
   "id": "540c2280-d39f-41ef-92da-a353bdbac5d8",
   "metadata": {},
   "source": [
    "h0 : the drug is significally effective at a 95% confidence interval\n",
    "h1 : the drug is not  significally effective at a 95% confidence interval\n",
    "t = (6 - 0) / (2.5 / √50) = 15.49\n",
    "Using a t-distribution table with 49 degrees of freedom and a significance level of 0.05 (two-tailed), we find that the critical value is ±2.009.\n",
    "Since our calculated t-value (15.49) is greater than our critical value (±2.009), we reject the null hypothesis and conclude that there is sufficient evidence to suggest that the weight loss drug is significantly effective at a 95% confidence level using a t-test\n"
   ]
  },
  {
   "cell_type": "markdown",
   "id": "b04877b4-03fa-4099-8519-6ace31a2eaf6",
   "metadata": {},
   "source": [
    "Q11. In a survey of 500 people, 65% reported being satisfied with their current job. Calculate the 95% \n",
    "confidence interval for the true proportion of people who are satisfied with their job."
   ]
  },
  {
   "cell_type": "markdown",
   "id": "329f9350-54d4-4c17-9c61-b684e4ea9fb5",
   "metadata": {},
   "source": [
    "Ans :  For a 95% confidence interval, z* is approximately 1.96.\n",
    "\n",
    "In this case, the sample proportion is 0.65 (65%), and the sample size is 500. Therefore:\n",
    "\n",
    "Confidence interval = 0.65 +/- 1.96 * (√ (0.65) * (1-0.65)/500) = [0.60, 0.70]\n",
    "\n",
    "So we can be 95% confident that the true proportion of people who are satisfied with their job is between 60% and 70%."
   ]
  },
  {
   "cell_type": "markdown",
   "id": "7a16c4be-526c-4a17-8afe-464207c03a8d",
   "metadata": {},
   "source": [
    "Q12. A researcher is testing the effectiveness of two different teaching methods on student performance. \n",
    "Sample A has a mean score of 85 with a standard deviation of 6, while sample B has a mean score of 82 \n",
    "with a standard deviation of 5. Conduct a hypothesis test to determine if the two teaching methods have a \n",
    "significant difference in student performance using a t-test with a significance level of 0.01."
   ]
  },
  {
   "cell_type": "markdown",
   "id": "39d61309-d2be-426e-92cf-efe6acdf2c28",
   "metadata": {},
   "source": [
    "Ans: Null hypothesis: The two teaching methods have no significant difference in student performance.\n",
    "Alternative hypothesis: The two teaching methods have a significant difference in student performance.\n",
    "Level of significance (alpha) = 0.01\n",
    "Degrees of freedom (df) = n1 + n2 - 2\n",
    "Using a t-distribution table with df degrees of freedom and a level of significance of 0.01, we find that the critical value is ±2.602.\n",
    "If |t| > 2.602, reject the null hypothesis.\n",
    "If |t| ≤ 2.602, fail to reject the null hypothesis.\n",
    "Using a t-distribution table with df degrees of freedom and a level of significance of 0.01, we find that the p-value is less than 0.01.\n",
    "Since the p-value is less than 0.01 and |t| > 2.602, we reject the null hypothesis.\n",
    "\n"
   ]
  },
  {
   "cell_type": "markdown",
   "id": "11fb05fe-4230-43c5-bdd3-ea4606fbc226",
   "metadata": {},
   "source": [
    "Q13. A population has a mean of 60 and a standard deviation of 8. A sample of 50 observations has a mean \n",
    "of 65. Calculate the 90% confidence interval for the true population mean."
   ]
  },
  {
   "cell_type": "markdown",
   "id": "9036e012-2264-457e-bc80-25aefa606a9d",
   "metadata": {},
   "source": [
    "Ans:X̄ is the sample mean (65)\n",
    "σ is the population standard deviation (8)\n",
    "n is the sample size (50)\n",
    "Zα/2 is the critical value for the confidence level α/2. For a 90% confidence level, α = 0.1 and Zα/2 = 1.645.\n",
    "Substituting these values into the formula, we get:\n",
    "\n",
    "CI = 65 ± 1.645 * (8/√50) ≈ [62.3, 67.7]\n",
    "\n",
    "Therefore, we can say with 90% confidence that the true population mean lies between 62.3 and 67.7."
   ]
  },
  {
   "cell_type": "markdown",
   "id": "2a02f321-1bcf-441e-8910-2053c7f093d3",
   "metadata": {},
   "source": [
    "Q14. In a study of the effects of caffeine on reaction time, a sample of 30 participants had an average \n",
    "reaction time of 0.25 seconds with a standard deviation of 0.05 seconds. Conduct a hypothesis test to \n",
    "determine if the caffeine has a significant effect on reaction time at a 90% confidence level using a t-test."
   ]
  },
  {
   "cell_type": "markdown",
   "id": "3d7582ab-f5b1-460a-9f40-1d03eb5c7d09",
   "metadata": {},
   "source": [
    "Ans:  the null hypothesis is that there is no significant difference in reaction time between participants who consume caffeine and those who do not. The alternative hypothesis is that there is a significant difference in reaction time between the two groups.\n",
    "n this case, α = 0.1 since we are conducting the test at a 90% confidence level.\n",
    "\n",
    "Calculate the t-statistic using the formula:\n",
    "\n",
    "t = (X̄ - μ) / (s / √n)\n",
    "t = (0.25 - 0) / (0.05 / √30)= 10.95\n",
    "For a two-tailed test at α = 0.1 and 29 degrees of freedom, we get:\n",
    "t_crit = ±1.699\n",
    "Since |t| > t_crit, we reject the null hypothesis and conclude that there is a significant difference in reaction time between participants who consume caffeine and those who do not at a 90% confidence level."
   ]
  },
  {
   "cell_type": "code",
   "execution_count": null,
   "id": "88b72088-a208-4bad-abc8-65c44b1dbb3a",
   "metadata": {},
   "outputs": [],
   "source": []
  }
 ],
 "metadata": {
  "kernelspec": {
   "display_name": "Python 3 (ipykernel)",
   "language": "python",
   "name": "python3"
  },
  "language_info": {
   "codemirror_mode": {
    "name": "ipython",
    "version": 3
   },
   "file_extension": ".py",
   "mimetype": "text/x-python",
   "name": "python",
   "nbconvert_exporter": "python",
   "pygments_lexer": "ipython3",
   "version": "3.10.8"
  }
 },
 "nbformat": 4,
 "nbformat_minor": 5
}
