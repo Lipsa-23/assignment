{
 "cells": [
  {
   "cell_type": "markdown",
   "id": "679ffeb5-6e62-4875-8c27-2b00d508cc09",
   "metadata": {},
   "source": [
    "Q1. What is Statistics?"
   ]
  },
  {
   "cell_type": "markdown",
   "id": "d9e148d9-3bce-4254-ab21-fa2c18189e2f",
   "metadata": {},
   "source": [
    "Ans : statistics is the science of collecting,analyzing and organizing of data"
   ]
  },
  {
   "cell_type": "markdown",
   "id": "16625abb-eedd-4fe7-92f6-8cd389545900",
   "metadata": {},
   "source": [
    "Q2. Define the different types of statistics and give an example of when each type might be used."
   ]
  },
  {
   "cell_type": "markdown",
   "id": "57844e15-9432-4db9-a102-b4a8c2ba07f8",
   "metadata": {},
   "source": [
    "Ans: There are two types of statistics.\n",
    "i)Descriptive statistics\n",
    "ex: calculation of average age of students in a class\n",
    "ii)inferential statistics\n",
    "ex :determining the winner party in election"
   ]
  },
  {
   "cell_type": "markdown",
   "id": "8ef94fbd-0e00-494b-b9db-123e978a9b65",
   "metadata": {},
   "source": [
    "Q3.  What are the different types of data and how do they differ from each other? Provide an example of \n",
    "each type of data."
   ]
  },
  {
   "cell_type": "markdown",
   "id": "ea9239bd-ef17-4a45-87f8-63718afbc29f",
   "metadata": {},
   "source": [
    " Ans :There are two types of data i)quantitative data ii)qualitative data\n",
    "quantitative data is a value based data it is forther divided in two parts discrete and continous discrete takes whole  number of value while continous takes any type of numeric value\n",
    "qualitative data is categorical data it also divided into two types nominal and ordinal data in nominal there is no rank assign while in ordinal rank is  assign "
   ]
  },
  {
   "cell_type": "markdown",
   "id": "1b0abdf6-94a3-4af4-88f2-092fb9f85551",
   "metadata": {},
   "source": [
    "Q4. Categorise the following datasets with respect to quantitative and qualitative data types:\n",
    "\n",
    "(i)\tGrading in exam: A+, A, B+, B, C+, C, D, E\n",
    "\n",
    "(ii)\tColour of mangoes: yellow, green, orange, red\n",
    "\n",
    "(iii)\tHeight data of a class: [178.9, 179, 179.5, 176, 177.2, 178.3, 175.8,...]\n",
    "\n",
    "(iv)\tNumber of mangoes exported by a farm: [500, 600, 478, 672, …]\n"
   ]
  },
  {
   "cell_type": "markdown",
   "id": "22f83dde-578a-4ce3-a05a-bb959aac964e",
   "metadata": {},
   "source": [
    "Ans : (i) Grading in exam: A+, A, B+, B, C+, C, D, E - its the qualitative ordinal data\n",
    "(ii) Colour of mangoes: yellow, green, orange, red - it is the qualitative nominal data\n",
    "(iii) Height data of a class: [178.9, 179, 179.5, 176, 177.2, 178.3, 175.8,...] - it is the quantitative continous data\n",
    "(iv) Number of mangoes exported by a farm: [500, 600, 478, 672, …] - it is the quantitative discrete data\n",
    "\n",
    "\n"
   ]
  },
  {
   "cell_type": "markdown",
   "id": "0b9d10da-ff7d-436b-aa08-e03c6d309f8f",
   "metadata": {},
   "source": [
    "Q5. Explain the concept of levels of measurement and give an example of a variable for each level."
   ]
  },
  {
   "cell_type": "markdown",
   "id": "73984888-763b-446c-bded-abd238325df7",
   "metadata": {},
   "source": [
    "Ans : levels of measurment is a process of catagorizing data.levels of measurment is uses for analizing data.there are four scale data \n",
    "i. Nominal scale  data\n",
    "ex- favorite colour\n",
    "ii. Ordinal scale data\n",
    "ex- review system\n",
    "iii. Interval scale data\n",
    "ex-temperature variable\n",
    "iv. ratio scale data\n",
    "ex- student marks in a class"
   ]
  },
  {
   "cell_type": "markdown",
   "id": "1daeae53-68e6-468f-865a-547d8576a910",
   "metadata": {},
   "source": [
    "Q6. Why is it important to understand the level of measurement when analyzing data? Provide an \n",
    "example to illustrate your answer."
   ]
  },
  {
   "cell_type": "markdown",
   "id": "a7bb46ad-f540-43b8-8482-ec9c6fd3079b",
   "metadata": {},
   "source": [
    "Ans : it is important to understand level of measurment when analyzing data because if we able to know the category of the  data then analyzing the data will be easy for us. example :-  before analyzing temperature variable we have to know that it is the interval scale data so we can calculate its differnce but we can't calculage its ratio"
   ]
  },
  {
   "cell_type": "markdown",
   "id": "29c81f7a-9d1e-4228-a363-4222ab46a19a",
   "metadata": {},
   "source": [
    "Q7. How nominal data type is different from ordinal data type."
   ]
  },
  {
   "cell_type": "markdown",
   "id": "d183a5eb-ec88-4052-8191-bfa1f3e3bca7",
   "metadata": {},
   "source": [
    "Ans: in nominal data we can't assign rank to data but in ordinal data we can assign rank with data"
   ]
  },
  {
   "cell_type": "markdown",
   "id": "664a6e4d-110f-44aa-84be-75aa654e38d1",
   "metadata": {},
   "source": [
    "Q8. Which type of plot can be used to display data in terms of range?"
   ]
  },
  {
   "cell_type": "markdown",
   "id": "320a2329-ce10-460e-93a2-533867541b0c",
   "metadata": {},
   "source": [
    "Ans : Boxplot"
   ]
  },
  {
   "cell_type": "markdown",
   "id": "a1c43dbc-64c0-4b4f-b29f-5ff6d830ac33",
   "metadata": {},
   "source": [
    "Q9. Describe the difference between descriptive and inferential statistics. Give an example of each \n",
    "type of statistics and explain how they are used."
   ]
  },
  {
   "cell_type": "markdown",
   "id": "8a21d5c8-ede1-490e-b822-ed3f8a61cdb7",
   "metadata": {},
   "source": [
    "Ans : descriptive - its consists of organizing & summerizing the data in terms of measure of central tendency\n",
    "      ex: mean,mode,median\n",
    "      inferential - its consist of using data you have measured to form conclusion\n",
    "    ex : hypothesis testing"
   ]
  },
  {
   "cell_type": "markdown",
   "id": "a362277c-5045-44f8-87cc-7480132c86e1",
   "metadata": {},
   "source": [
    "Q10. What are some common measures of central tendency and variability used in statistics? Explain \n",
    "how each measure can be used to describe a dataset."
   ]
  },
  {
   "cell_type": "markdown",
   "id": "62671dca-ad8a-45d0-ab7d-a4d9cf17c918",
   "metadata": {},
   "source": [
    "Ans: commom measure of central tendency are mean,median,mode\n",
    "ex :\n",
    "    x =  {12,3,4,5,3}\n",
    "    mean = 12+3+4+5+3/5 = 24.6\n",
    "    median = 4\n",
    "    mode = 3"
   ]
  },
  {
   "cell_type": "code",
   "execution_count": null,
   "id": "6d82d142-ea11-4800-98f7-aece839ccbc9",
   "metadata": {},
   "outputs": [],
   "source": []
  }
 ],
 "metadata": {
  "kernelspec": {
   "display_name": "Python 3 (ipykernel)",
   "language": "python",
   "name": "python3"
  },
  "language_info": {
   "codemirror_mode": {
    "name": "ipython",
    "version": 3
   },
   "file_extension": ".py",
   "mimetype": "text/x-python",
   "name": "python",
   "nbconvert_exporter": "python",
   "pygments_lexer": "ipython3",
   "version": "3.10.8"
  }
 },
 "nbformat": 4,
 "nbformat_minor": 5
}
