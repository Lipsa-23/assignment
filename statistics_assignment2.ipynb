{
 "cells": [
  {
   "cell_type": "markdown",
   "id": "5bcbdd41-a47f-4c01-aed0-d840d0a87811",
   "metadata": {},
   "source": [
    "Q1. What are the three measures of central tendency?"
   ]
  },
  {
   "cell_type": "markdown",
   "id": "67a05f12-4ee2-4a04-93ee-1f2c13ad08c6",
   "metadata": {},
   "source": [
    "Ans : mean,median,mode"
   ]
  },
  {
   "cell_type": "markdown",
   "id": "1610b2d3-c61e-4e90-b808-2466d5081b14",
   "metadata": {},
   "source": [
    "Q2. What is the difference between the mean, median, and mode? How are they used to measure the \n",
    "central tendency of a dataset?"
   ]
  },
  {
   "cell_type": "markdown",
   "id": "e7fc4426-22d1-4691-8fbe-b80336303a07",
   "metadata": {},
   "source": [
    "Ans: mean is use to  calculate average  of random data. median is use to define the mmidpoint of random data and it is use in case of outlier.mode is use to calculate the frequencies.\n",
    "ex: x = {1,2,3,4,5}\n",
    "mean = (1+2+3+4+5)/5=3\n",
    "median = 3\n",
    " x = {1,2,3,4,5,3}\n",
    "mode = 3"
   ]
  },
  {
   "cell_type": "markdown",
   "id": "eba84ee2-7357-431c-9b01-614b136b954f",
   "metadata": {},
   "source": [
    "Q3. Measure the three measures of central tendency for the given height data:\n",
    "\n",
    " [178,177,176,177,178.2,178,175,179,180,175,178.9,176.2,177,172.5,178,176.5]"
   ]
  },
  {
   "cell_type": "code",
   "execution_count": 1,
   "id": "0b51895d-428d-492d-8d45-be9c228e08f1",
   "metadata": {},
   "outputs": [
    {
     "data": {
      "text/plain": [
       "0    177.01875\n",
       "dtype: float64"
      ]
     },
     "execution_count": 1,
     "metadata": {},
     "output_type": "execute_result"
    }
   ],
   "source": [
    "import pandas as pd\n",
    "df = pd.DataFrame([178,177,176,177,178.2,178,175,179,180,175,178.9,176.2,177,172.5,178,176.5])\n",
    "df.mean()"
   ]
  },
  {
   "cell_type": "code",
   "execution_count": 2,
   "id": "c2bcae07-a743-46c6-ad8e-6287c176e18a",
   "metadata": {},
   "outputs": [
    {
     "data": {
      "text/plain": [
       "0    177.0\n",
       "dtype: float64"
      ]
     },
     "execution_count": 2,
     "metadata": {},
     "output_type": "execute_result"
    }
   ],
   "source": [
    "df.median()"
   ]
  },
  {
   "cell_type": "code",
   "execution_count": 3,
   "id": "464b7592-c18e-4212-a566-e11e9f2bc1be",
   "metadata": {},
   "outputs": [
    {
     "data": {
      "text/html": [
       "<div>\n",
       "<style scoped>\n",
       "    .dataframe tbody tr th:only-of-type {\n",
       "        vertical-align: middle;\n",
       "    }\n",
       "\n",
       "    .dataframe tbody tr th {\n",
       "        vertical-align: top;\n",
       "    }\n",
       "\n",
       "    .dataframe thead th {\n",
       "        text-align: right;\n",
       "    }\n",
       "</style>\n",
       "<table border=\"1\" class=\"dataframe\">\n",
       "  <thead>\n",
       "    <tr style=\"text-align: right;\">\n",
       "      <th></th>\n",
       "      <th>0</th>\n",
       "    </tr>\n",
       "  </thead>\n",
       "  <tbody>\n",
       "    <tr>\n",
       "      <th>0</th>\n",
       "      <td>177.0</td>\n",
       "    </tr>\n",
       "    <tr>\n",
       "      <th>1</th>\n",
       "      <td>178.0</td>\n",
       "    </tr>\n",
       "  </tbody>\n",
       "</table>\n",
       "</div>"
      ],
      "text/plain": [
       "       0\n",
       "0  177.0\n",
       "1  178.0"
      ]
     },
     "execution_count": 3,
     "metadata": {},
     "output_type": "execute_result"
    }
   ],
   "source": [
    "df.mode()"
   ]
  },
  {
   "cell_type": "markdown",
   "id": "499c8ece-b57f-4f0c-8c00-1c4996c6874c",
   "metadata": {},
   "source": [
    "Q4. Find the standard deviation for the given data:\n",
    "\n",
    "[178,177,176,177,178.2,178,175,179,180,175,178.9,176.2,177,172.5,178,176.5]"
   ]
  },
  {
   "cell_type": "code",
   "execution_count": 4,
   "id": "c71a4268-eec1-4e89-bf7f-25c4904cafcc",
   "metadata": {},
   "outputs": [
    {
     "data": {
      "text/plain": [
       "0    1.847239\n",
       "dtype: float64"
      ]
     },
     "execution_count": 4,
     "metadata": {},
     "output_type": "execute_result"
    }
   ],
   "source": [
    "import pandas as pd\n",
    "df = pd.DataFrame([178,177,176,177,178.2,178,175,179,180,175,178.9,176.2,177,172.5,178,176.5])\n",
    "df.std()"
   ]
  },
  {
   "cell_type": "markdown",
   "id": "7eba5298-c143-4fdc-a5eb-6bc3c6eb739c",
   "metadata": {},
   "source": [
    "Q5. How are measures of dispersion such as range, variance, and standard deviation used to describe \n",
    "the spread of a dataset? Provide an example."
   ]
  },
  {
   "cell_type": "markdown",
   "id": "07b1795c-75e3-4b07-9730-857b9683b96c",
   "metadata": {},
   "source": [
    "Ans : Measures of dispersion such as range, variance, and standard deviation are used to describe the spread of a dataset. The range is the difference between the largest and smallest data points in a set. The variance is the average of the squared differences between each value and the mean. Standard deviation is the square root of the variance. It is a measure of how spread out the data is from its mean1.\n",
    "\n",
    "For example, suppose we have a dataset of 5 numbers: 1, 2, 3, 4, 5. The mean of this dataset is (1+2+3+4+5)/5 = 3. The range is 5-1 = 4. The variance is ((1-3)^2 + (2-3)^2 + (3-3)^2 + (4-3)^2 + (5-3)^2)/5 = 2. The standard deviation is sqrt(2) = 1.412."
   ]
  },
  {
   "cell_type": "markdown",
   "id": "4736eaa5-8c86-4131-a3ca-d8bf1a54b4d6",
   "metadata": {},
   "source": [
    "Q6. What is a Venn diagram?"
   ]
  },
  {
   "cell_type": "markdown",
   "id": "ae4f610b-6df3-4e9a-9d1c-c17d2b8417fc",
   "metadata": {},
   "source": [
    "Ans :A Venn diagram is a schematic representation of the elements in a set or a group."
   ]
  },
  {
   "cell_type": "markdown",
   "id": "d925452e-12a2-4f06-8160-50e8d0b43654",
   "metadata": {},
   "source": [
    "Q7. For the two given sets A = (2,3,4,5,6,7) & B = (0,2,6,8,10). Find:\n",
    "\n",
    "(i) \tA B\n",
    "\n",
    "(ii)\tA ⋃ B"
   ]
  },
  {
   "cell_type": "markdown",
   "id": "1994dca0-69e3-402f-9bc7-7f64e14ab6b5",
   "metadata": {},
   "source": [
    "Ans :i){2,6}\n",
    "ii){2,3,4,5,6,7,0,8,10}"
   ]
  },
  {
   "cell_type": "markdown",
   "id": "fd0cf0b5-a4c0-448b-978b-ccaddfb70170",
   "metadata": {},
   "source": [
    "Q8. What do you understand about skewness in data?"
   ]
  },
  {
   "cell_type": "markdown",
   "id": "b5c980ee-9725-4dfc-8241-9396dcff0a82",
   "metadata": {},
   "source": [
    "Ans : Skewness describes how much statistical data distribution is asymmetrical from the normal distribution"
   ]
  },
  {
   "cell_type": "markdown",
   "id": "859db825-7fc0-4cc8-9182-b39fa5efb8f4",
   "metadata": {},
   "source": [
    "Q9. If a data is right skewed then what will be the position of median with respect to mean?"
   ]
  },
  {
   "cell_type": "markdown",
   "id": "455febd2-34fc-4adc-b17b-472e330a8d8b",
   "metadata": {},
   "source": [
    "Ans : mean>median"
   ]
  },
  {
   "cell_type": "markdown",
   "id": "dcf79fc4-904b-42a0-9a20-3c7463841a56",
   "metadata": {},
   "source": [
    "Q10. Explain the difference between covariance and correlation. How are these measures used in \n",
    "statistical analysis?"
   ]
  },
  {
   "cell_type": "markdown",
   "id": "311750e8-7d5d-41a1-a790-0591445a08c7",
   "metadata": {},
   "source": [
    "Ans :covariance doesnot have specific limit value where as corelation has specific limit value"
   ]
  },
  {
   "cell_type": "markdown",
   "id": "586c7cbc-49e6-475b-bf25-369d02086307",
   "metadata": {},
   "source": [
    "Q11. What is the formula for calculating the sample mean? Provide an example calculation for a \n",
    "dataset."
   ]
  },
  {
   "cell_type": "markdown",
   "id": "79fe64b7-b1ca-4d56-8d40-21bac85b7769",
   "metadata": {},
   "source": [
    "Ans: the formila of sample mean X̄ = (Σ xi) / n ex: x = {1,2,3,4,5} sample mean = (1+2+3+4+5)/5=3"
   ]
  },
  {
   "cell_type": "markdown",
   "id": "ea32b1bc-1553-4f99-9d06-f53f14d9c4e0",
   "metadata": {},
   "source": [
    "Q12. For a normal distribution data what is the relationship between its measure of central tendency?"
   ]
  },
  {
   "cell_type": "markdown",
   "id": "51b17fac-6ed9-4849-876d-a4615d34898a",
   "metadata": {},
   "source": [
    "Ans : for a normal distribution mean = median = mode"
   ]
  },
  {
   "cell_type": "markdown",
   "id": "81e0297e-a147-4e4b-8aeb-c16c647f1c85",
   "metadata": {},
   "source": [
    "Q13. How is covariance different from correlation?"
   ]
  },
  {
   "cell_type": "markdown",
   "id": "78431546-06c5-4282-85d9-9b06b239745c",
   "metadata": {},
   "source": [
    "Ans :covariance doesnot have specific limit value where as corelation has specific limit value"
   ]
  },
  {
   "cell_type": "markdown",
   "id": "9553dfad-192f-4b74-8f53-96ee44972d94",
   "metadata": {},
   "source": [
    "Q14. How do outliers affect measures of central tendency and dispersion? Provide an example."
   ]
  },
  {
   "cell_type": "markdown",
   "id": "c3f7a347-f4f2-4d7c-b12d-806d69c8f134",
   "metadata": {},
   "source": [
    "Ans : an outlier is a data point that differs significantly from other observations. ex : x = {1,2,3,4,5} mean = 3 but when we take an outlier x =  {1,2,3,4,5,100} mean = 23 so there is a big gap between this observation and iits previous observation"
   ]
  },
  {
   "cell_type": "code",
   "execution_count": null,
   "id": "4bc7ac03-c426-4de2-80f1-9a9c7deb94ca",
   "metadata": {},
   "outputs": [],
   "source": []
  }
 ],
 "metadata": {
  "kernelspec": {
   "display_name": "Python 3 (ipykernel)",
   "language": "python",
   "name": "python3"
  },
  "language_info": {
   "codemirror_mode": {
    "name": "ipython",
    "version": 3
   },
   "file_extension": ".py",
   "mimetype": "text/x-python",
   "name": "python",
   "nbconvert_exporter": "python",
   "pygments_lexer": "ipython3",
   "version": "3.10.8"
  }
 },
 "nbformat": 4,
 "nbformat_minor": 5
}
